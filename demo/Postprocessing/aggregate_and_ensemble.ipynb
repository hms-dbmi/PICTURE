{
 "cells": [
  {
   "cell_type": "markdown",
   "metadata": {},
   "source": [
    "## Ensembled Predictions with Uncertainty-Aware Aggregation "
   ]
  },
  {
   "cell_type": "code",
   "execution_count": 25,
   "metadata": {},
   "outputs": [],
   "source": [
    "import pandas as pd\n",
    "import numpy as np\n",
    "from pathlib import Path\n",
    "import os\n",
    "from argparse import ArgumentParser, Namespace\n",
    "import matplotlib.pyplot as plt\n",
    "from os.path import basename, dirname, join\n",
    "from scipy.stats import entropy\n",
    "from typing import Literal\n",
    "from scipy.special import softmax\n",
    "import json\n",
    "import yaml\n",
    "\n",
    "import glob\n",
    "\n",
    "from sklearn.metrics import (\n",
    "    roc_curve,\n",
    "    classification_report,\n",
    "    ConfusionMatrixDisplay,\n",
    "    RocCurveDisplay,\n",
    "    confusion_matrix,\n",
    "    roc_auc_score,\n",
    "    cohen_kappa_score,\n",
    "    average_precision_score,\n",
    "    matthews_corrcoef\n",
    ")\n"
   ]
  },
  {
   "cell_type": "markdown",
   "metadata": {},
   "source": [
    "#### 1. Specify Input Data"
   ]
  },
  {
   "cell_type": "code",
   "execution_count": 26,
   "metadata": {},
   "outputs": [],
   "source": [
    "## A dictionary to map the dataset names to their respective CSV files.\n",
    "csv_map = {\n",
    "    'uni':[f'anonymized_tile_data/uni_{i}.csv' for i in range(5)],\n",
    "    'virchow':[f'anonymized_tile_data/virchow_{i}.csv' for i in range(5)],\n",
    "    'conch':[f'anonymized_tile_data/conch_{i}.csv' for i in range(5)],\n",
    "}\n",
    "## number of the most confident tile-level predictions to select (we used the top 50% of the tiles)\n",
    "topK=250    "
   ]
  },
  {
   "cell_type": "markdown",
   "metadata": {},
   "source": [
    "#### 2. Read csvs"
   ]
  },
  {
   "cell_type": "code",
   "execution_count": 27,
   "metadata": {},
   "outputs": [],
   "source": [
    "dfs_agg = []\n",
    "for model, csvs in csv_map.items():\n",
    "    dfs = [pd.read_csv(csv) for csv in csvs]\n",
    "    dfs = [df.set_index(['patch','slide','label','subjID']) for df in dfs]\n",
    "    for i,df in enumerate(dfs):\n",
    "        if i == 0:\n",
    "            df_agg = df.copy()\n",
    "        else:\n",
    "            df_agg = df_agg.join(df,how='inner',rsuffix=f'_{i}')\n",
    "    if len(df_agg) == 0:\n",
    "        raise ValueError('No common tile names between datasets')\n",
    "    dfs_agg.append(df_agg.reset_index())\n",
    "df_agg = pd.concat(dfs_agg)"
   ]
  },
  {
   "cell_type": "markdown",
   "metadata": {},
   "source": [
    "#### 3. Estimate Patch-level Statistics"
   ]
  },
  {
   "cell_type": "code",
   "execution_count": 28,
   "metadata": {},
   "outputs": [],
   "source": [
    "\n",
    "df_agg = df_agg.reset_index(drop=True).reset_index()\n",
    "df_agg = df_agg.set_index(['index','subjID','slide','patch','label'],drop=True)\n",
    "\n",
    "scores = df_agg.mean(axis=1).rename('score')\n",
    "scores_std = df_agg.std(axis=1).rename('std')\n",
    "df = pd.concat([scores,scores_std],axis=1).reset_index()"
   ]
  },
  {
   "cell_type": "markdown",
   "metadata": {},
   "source": [
    "#### 4. Filter out uncertain patches"
   ]
  },
  {
   "cell_type": "code",
   "execution_count": 29,
   "metadata": {},
   "outputs": [],
   "source": [
    "def filter_topK(df, K=100, col=\"std\",id_col='subjID', ascending=True):\n",
    "    # if K>1: # K is number\n",
    "    K=int(K)\n",
    "    uids = pd.unique(df[id_col])\n",
    "\n",
    "    subj_dfs = []\n",
    "    for id in uids:\n",
    "        # id = str(id)\n",
    "        subj_df = df.loc[df[id_col] == id]\n",
    "        subj_df = subj_df.sort_values(by=col, ascending=ascending).reset_index(\n",
    "            drop=True\n",
    "        )\n",
    "        stop_idx = min(K - 1, subj_df.shape[0])\n",
    "        subj_df = subj_df.loc[:stop_idx]\n",
    "        subj_dfs.append(subj_df)\n",
    "    df = pd.concat(subj_dfs, ignore_index=True)\n",
    "    return df\n",
    "\n",
    "\n",
    "## filter tiles with lowest uncertainty (top K)\n",
    "# (if topK is actual count and use macro aggregation,  multiply by number of models)\n",
    "df = filter_topK(df, K= topK * len(csv_map), col='std',id_col='subjID')"
   ]
  },
  {
   "cell_type": "markdown",
   "metadata": {},
   "source": [
    "#### 5. Get subject-level predictions\n"
   ]
  },
  {
   "cell_type": "code",
   "execution_count": 30,
   "metadata": {},
   "outputs": [],
   "source": [
    "df_subj =  df.groupby(['subjID','label']).mean(numeric_only=True).reset_index()\n",
    "\n",
    "\n",
    "\n",
    "y_score = df_subj[\"score\"].to_numpy()\n",
    "y_label = df_subj[\"label\"].to_numpy()\n",
    "y_pred = np.where(y_score > 0.5, 1, 0)\n"
   ]
  },
  {
   "cell_type": "markdown",
   "metadata": {},
   "source": [
    "ROC curve"
   ]
  },
  {
   "cell_type": "code",
   "execution_count": 31,
   "metadata": {},
   "outputs": [
    {
     "data": {
      "image/png": "[encoded data removed]",
      "text/plain": [
       "<Figure size 400x400 with 1 Axes>"
      ]
     },
     "metadata": {},
     "output_type": "display_data"
    }
   ],
   "source": [
    "# plot ROC curve\n",
    "fpr, tpr, thresholds = roc_curve(y_label, y_score, pos_label=1)\n",
    "plt.figure(figsize=(4, 4))\n",
    "plt.plot(fpr, tpr, label='ROC curve (area = {:.3f})'.format(roc_auc_score(y_label, y_score)))\n",
    "plt.plot([0, 1], [0, 1], 'k--', label='Random chance')\n",
    "# show legend\n",
    "plt.xlabel('False Positive Rate')\n",
    "plt.ylabel('True Positive Rate')\n",
    "plt.title('ROC Curve')\n",
    "plt.legend()\n",
    "plt.show()\n"
   ]
  },
  {
   "cell_type": "markdown",
   "metadata": {},
   "source": [
    "Performance Metrics"
   ]
  },
  {
   "cell_type": "code",
   "execution_count": 32,
   "metadata": {},
   "outputs": [
    {
     "name": "stdout",
     "output_type": "stream",
     "text": [
      "\n",
      "\n",
      "Classification Report:\n",
      "                        value\n",
      "N_PCNSL            20.000000\n",
      "N_GBM              75.000000\n",
      "Recall_PCNSL        0.950000\n",
      "Recall_GBM          0.933333\n",
      "Precision_PCNSL     0.791667\n",
      "Precision_GBM       0.985915\n",
      "Accuracy            0.936842\n",
      "Balanced Accuracy   0.941667\n",
      "AUROC               0.989333\n",
      "AUPRC_GBM           0.591094\n",
      "AUPRC_PCNSL         0.968155\n",
      "F1_PCNSL            0.863636\n",
      "F1_GBM              0.958904\n",
      "Youdens Index       0.883333\n",
      "Cohens Kappa        0.822981\n",
      "MCC                 0.828773\n"
     ]
    }
   ],
   "source": [
    "LABEL_DICT = {0: \"GBM\", 1: \"PCNSL\",\"GBM\":0,\"PCNSL\":1}\n",
    "def detailed_classification_report(y_true, y_score, y_pred, target_names):\n",
    "\n",
    "    CR = classification_report(y_true, y_pred, output_dict=True,target_names=target_names)\n",
    "\n",
    "    CR_dict = {\n",
    "        f'N_{target_names[1]}': CR[LABEL_DICT[1]]['support'],\n",
    "        f'N_{target_names[0]}': CR[LABEL_DICT[0]]['support'],\n",
    "        f'Recall_{target_names[1]}': CR[LABEL_DICT[1]]['recall'],\n",
    "        f'Recall_{target_names[0]}': CR[target_names[0]]['recall'],\n",
    "        f'Precision_{target_names[1]}': CR[target_names[1]]['precision'],\n",
    "        f'Precision_{target_names[0]}': CR[target_names[0]]['precision'],\n",
    "        'Accuracy': CR['accuracy'],\n",
    "        'Balanced Accuracy': CR['macro avg']['recall'],\n",
    "        'AUROC': roc_auc_score(y_true, y_score),\n",
    "        f'AUPRC_{LABEL_DICT[0]}': average_precision_score(y_true,y_score,pos_label=0),\n",
    "        f'AUPRC_{LABEL_DICT[1]}':  average_precision_score(y_true,y_score,pos_label=1),\n",
    "        f'F1_{LABEL_DICT[1]}': CR[target_names[1]]['f1-score'],\n",
    "        f'F1_{LABEL_DICT[0]}': CR[target_names[0]]['f1-score'],\n",
    "        'Youden''s Index': CR[target_names[1]]['recall']+CR[target_names[0]]['recall']-1,\n",
    "        'Cohen''s Kappa': cohen_kappa_score(y_true, y_pred),\n",
    "        'MCC': matthews_corrcoef(y_true, y_pred),\n",
    "    }\n",
    "    return CR_dict\n",
    "\n",
    "target_names = [LABEL_DICT[i] for i in [0, 1]]\n",
    "CR = detailed_classification_report(y_label, y_score, y_pred, target_names=target_names)\n",
    "df = pd.DataFrame.from_dict(CR,orient='index', columns=['value'])\n",
    "print('\\n\\nClassification Report:\\n',df)"
   ]
  }
 ],
 "metadata": {
  "kernelspec": {
   "display_name": "HTAN_env",
   "language": "python",
   "name": "python3"
  },
  "language_info": {
   "codemirror_mode": {
    "name": "ipython",
    "version": 3
   },
   "file_extension": ".py",
   "mimetype": "text/x-python",
   "name": "python",
   "nbconvert_exporter": "python",
   "pygments_lexer": "ipython3",
   "version": "3.9.13"
  }
 },
 "nbformat": 4,
 "nbformat_minor": 2
}
