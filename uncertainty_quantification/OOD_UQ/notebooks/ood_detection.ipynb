{
 "cells": [
  {
   "cell_type": "markdown",
   "metadata": {},
   "source": [
    "# Out-of-Distribution (OOD) Data Analysis with PyTorch Lightning\n",
    "\n",
    "In this notebook, we explore the evaluation of a model's performance on out-of-distribution (OOD) data. We utilize the PyTorch Lightning framework, which simplifies training and validation processes in PyTorch."
   ]
  },
  {
   "cell_type": "code",
   "execution_count": null,
   "metadata": {},
   "outputs": [],
   "source": [
    "import argparse\n",
    "import torch\n",
    "from torch.optim import AdamW\n",
    "from pytorch_lightning import Trainer\n",
    "from src.datasets.ood_dataset import OodDataset\n",
    "from src.datamodules.vienna_datamodule import ViennaDataModule\n",
    "from src.datamodules.ebrain_datamodule import EbrainDataModule\n",
    "from src.models.uncertainty_module import UncertaintyModule\n",
    "from src.models.slides_module import ViT8\n",
    "import torch.multiprocessing\n",
    "\n",
    "torch.multiprocessing.set_sharing_strategy(\"file_system\")\n"
   ]
  },
  {
   "cell_type": "markdown",
   "metadata": {},
   "source": [
    "## Loading the Model Checkpoint\n",
    "\n",
    "Here we load the model checkpoint. This step initializes the model with the weights saved at a particular epoch.\n"
   ]
  },
  {
   "cell_type": "code",
   "execution_count": null,
   "metadata": {},
   "outputs": [],
   "source": [
    "checkpoint_path = \"/n/data2/hms/dbmi/kyu/lab/raa006/pathology_uncertainty/logs/train/runs/2023-05-24_16-22-58/checkpoints/epoch_031.ckpt\"\n",
    "model = UncertaintyModule.load_from_checkpoint(checkpoint_path)"
   ]
  },
  {
   "cell_type": "markdown",
   "metadata": {},
   "source": [
    "## Data Module Initialization\n",
    "\n",
    "We prepare data modules for both in-domain and out-of-domain data. The `ViennaDataModule` is used for in-domain data, while `EbrainDataModule` handles out-of-domain data, specifically with extra OOD data.\n"
   ]
  },
  {
   "cell_type": "code",
   "execution_count": null,
   "metadata": {},
   "outputs": [],
   "source": [
    "# Initialize Vienna data module\n",
    "vienna_datamodule = ViennaDataModule(batch_size=32, num_workers=6)\n",
    "vienna_datamodule.setup()\n",
    "\n",
    "# Initialize Ebrain data module with extra OOD data\n",
    "ood_datamodule = EbrainDataModule(batch_size=1, num_workers=6, extra_ood=True)\n",
    "ood_datamodule.setup()\n",
    "model.ood_datamodule = ood_datamodule\n"
   ]
  },
  {
   "cell_type": "markdown",
   "metadata": {},
   "source": [
    "## PyTorch Lightning Trainer Setup\n",
    "\n",
    "We set up the PyTorch Lightning Trainer with GPU support and 16-bit precision for efficient training.\n"
   ]
  },
  {
   "cell_type": "code",
   "execution_count": null,
   "metadata": {},
   "outputs": [],
   "source": [
    "trainer = Trainer(gpus=1, precision=16)"
   ]
  },
  {
   "cell_type": "markdown",
   "metadata": {},
   "source": [
    "## Model Evaluation\n",
    "\n",
    "We perform the model evaluation for different seeds to assess the performance consistently. The model is evaluated on both in-domain and out-of-domain datasets.\n"
   ]
  },
  {
   "cell_type": "code",
   "execution_count": null,
   "metadata": {},
   "outputs": [],
   "source": [
    "scaler = torch.cuda.amp.GradScaler()\n",
    "model.to(\"cuda:0\")\n",
    "\n",
    "for seed in [1]:\n",
    "    model.seed = seed\n",
    "    model.hparams.seed = seed\n",
    "\n",
    "    trainer.validate(model, vienna_datamodule)\n"
   ]
  }
 ],
 "metadata": {
  "kernelspec": {
   "display_name": "torch",
   "language": "python",
   "name": "python3"
  },
  "language_info": {
   "codemirror_mode": {
    "name": "ipython",
    "version": 3
   },
   "file_extension": ".py",
   "mimetype": "text/x-python",
   "name": "python",
   "nbconvert_exporter": "python",
   "pygments_lexer": "ipython3",
   "version": "3.10.8"
  },
  "orig_nbformat": 4
 },
 "nbformat": 4,
 "nbformat_minor": 2
}
